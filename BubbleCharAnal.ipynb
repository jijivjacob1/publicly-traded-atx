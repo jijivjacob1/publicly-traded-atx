{
 "cells": [
  {
   "cell_type": "code",
   "execution_count": 1,
   "metadata": {
    "collapsed": true
   },
   "outputs": [],
   "source": [
    "import pandas as pd\n",
    "import sqlalchemy\n",
    "from sqlalchemy import create_engine, MetaData,func\n",
    "from sqlalchemy.ext.declarative import declarative_base\n",
    "from sqlalchemy import Column,Integer,String,Numeric,Text,Float,ForeignKey\n",
    "from sqlalchemy.orm import sessionmaker,relationship\n",
    "import datetime\n",
    "import dateutil.relativedelta\n",
    "import quandl\n",
    "import requests\n",
    "import time\n",
    "from sqlalchemy.ext.automap import automap_base\n",
    "import plotly as py\n",
    "py.tools.set_credentials_file(username='jiji_v_jacob', api_key=\"iBN6typcxs3KOaRus216\")\n",
    "import plotly.plotly as py\n",
    "import plotly.graph_objs as go\n",
    "from sqlalchemy.orm import Session\n",
    "import math"
   ]
  },
  {
   "cell_type": "code",
   "execution_count": 2,
   "metadata": {
    "collapsed": true
   },
   "outputs": [],
   "source": [
    "engine = create_engine(\"sqlite:///pub_atx.sqlite\")"
   ]
  },
  {
   "cell_type": "code",
   "execution_count": 3,
   "metadata": {
    "collapsed": true
   },
   "outputs": [],
   "source": [
    "Base = declarative_base()"
   ]
  },
  {
   "cell_type": "code",
   "execution_count": 4,
   "metadata": {
    "collapsed": true
   },
   "outputs": [],
   "source": [
    "# class Company(Base):\n",
    "#     __tablename__ = 'cmpny'\n",
    "    \n",
    "#     id_cmpny = Column(Integer, primary_key=True)\n",
    "#     rank = Column(Integer)\n",
    "#     name = Column(Text)\n",
    "#     address = Column(Text)\n",
    "#     city = Column(Text)\n",
    "#     state = Column(Text)\n",
    "#     zip_code = Column(Text)\n",
    "#     phn_nbr = Column(Text)\n",
    "#     website = Column(Text)\n",
    "#     tckr = Column(Text)\n",
    "#     ipo_yr = Column(Integer)\n",
    "#     yr_founded = Column(Integer)\n",
    "#     gen_buss_desc = Column(Text)\n",
    "#     curr_top_exec = Column(Text)\n",
    "#     yr_estblsh = Column(Integer)\n",
    "#     austin_staff_cnt = Column(Float)\n",
    "#     comp_staff_cnt = Column(Float)\n",
    "#     tot_local_emp_cnt = Column(Float)\n",
    "#     exchng = Column(Text)\n",
    "#     lat = Column(Float)\n",
    "#     lng = Column(Float)\n",
    "#     industry = Column(Text)\n",
    "#     sector = Column(Text)\n",
    "#     marketcap = Column(Float)\n",
    "    \n",
    "#     def __repr__(self):\n",
    "#         return f\"id={self.id},name=[self.name]\""
   ]
  },
  {
   "cell_type": "code",
   "execution_count": 5,
   "metadata": {
    "collapsed": true
   },
   "outputs": [],
   "source": [
    "# reflect an existing database into a new model\n",
    "Base = automap_base()\n",
    "# reflect the tables\n",
    "Base.prepare(engine, reflect=True)"
   ]
  },
  {
   "cell_type": "code",
   "execution_count": 6,
   "metadata": {
    "collapsed": true
   },
   "outputs": [],
   "source": [
    "company = Base.classes.cmpny"
   ]
  },
  {
   "cell_type": "code",
   "execution_count": 7,
   "metadata": {
    "collapsed": true
   },
   "outputs": [],
   "source": [
    "session = Session(engine)"
   ]
  },
  {
   "cell_type": "code",
   "execution_count": 8,
   "metadata": {
    "collapsed": true
   },
   "outputs": [],
   "source": [
    "sectors = session.query(func.distinct(company.sector)).all()"
   ]
  },
  {
   "cell_type": "code",
   "execution_count": 9,
   "metadata": {
    "collapsed": true
   },
   "outputs": [],
   "source": [
    "sectors = session.query(company.sector,company.name,company.yr_estblsh,company.marketcap,company.austin_staff_cnt,company.comp_staff_cnt).order_by(company.sector).statement"
   ]
  },
  {
   "cell_type": "code",
   "execution_count": 10,
   "metadata": {
    "collapsed": true
   },
   "outputs": [],
   "source": [
    "df_sector_comp = pd.read_sql(sectors,session.bind)"
   ]
  },
  {
   "cell_type": "code",
   "execution_count": 11,
   "metadata": {
    "collapsed": true
   },
   "outputs": [],
   "source": [
    "slope = 2.666051223553066e-05\n",
    "hover_text = []\n",
    "bubble_size = []\n",
    "traces = []"
   ]
  },
  {
   "cell_type": "code",
   "execution_count": 12,
   "metadata": {
    "collapsed": true
   },
   "outputs": [],
   "source": [
    "df_sector_comp[\"austin_staff_cnt\"] = df_sector_comp[\"austin_staff_cnt\"].astype(int)\n",
    "df_sector_comp[\"comp_staff_cnt\"] = df_sector_comp[\"comp_staff_cnt\"].astype(int)"
   ]
  },
  {
   "cell_type": "code",
   "execution_count": 13,
   "metadata": {},
   "outputs": [
    {
     "data": {
      "text/html": [
       "<div>\n",
       "<style>\n",
       "    .dataframe thead tr:only-child th {\n",
       "        text-align: right;\n",
       "    }\n",
       "\n",
       "    .dataframe thead th {\n",
       "        text-align: left;\n",
       "    }\n",
       "\n",
       "    .dataframe tbody tr th {\n",
       "        vertical-align: top;\n",
       "    }\n",
       "</style>\n",
       "<table border=\"1\" class=\"dataframe\">\n",
       "  <thead>\n",
       "    <tr style=\"text-align: right;\">\n",
       "      <th></th>\n",
       "      <th>sector</th>\n",
       "      <th>name</th>\n",
       "      <th>yr_estblsh</th>\n",
       "      <th>marketcap</th>\n",
       "      <th>austin_staff_cnt</th>\n",
       "      <th>comp_staff_cnt</th>\n",
       "    </tr>\n",
       "  </thead>\n",
       "  <tbody>\n",
       "    <tr>\n",
       "      <th>0</th>\n",
       "      <td>Consumer Cyclical</td>\n",
       "      <td>Chuy's Holdings Inc.</td>\n",
       "      <td>1982</td>\n",
       "      <td>4.515957e+08</td>\n",
       "      <td>893</td>\n",
       "      <td>8200</td>\n",
       "    </tr>\n",
       "    <tr>\n",
       "      <th>1</th>\n",
       "      <td>Energy</td>\n",
       "      <td>Parsley Energy LLC</td>\n",
       "      <td>2008</td>\n",
       "      <td>8.161527e+09</td>\n",
       "      <td>0</td>\n",
       "      <td>298</td>\n",
       "    </tr>\n",
       "    <tr>\n",
       "      <th>2</th>\n",
       "      <td>Energy</td>\n",
       "      <td>USA Compression Partners LLC</td>\n",
       "      <td>1998</td>\n",
       "      <td>1.098975e+09</td>\n",
       "      <td>26</td>\n",
       "      <td>433</td>\n",
       "    </tr>\n",
       "    <tr>\n",
       "      <th>3</th>\n",
       "      <td>Energy</td>\n",
       "      <td>Jones Energy Inc.</td>\n",
       "      <td>1993</td>\n",
       "      <td>9.513039e+07</td>\n",
       "      <td>52</td>\n",
       "      <td>90</td>\n",
       "    </tr>\n",
       "    <tr>\n",
       "      <th>4</th>\n",
       "      <td>Energy</td>\n",
       "      <td>FieldPoint Petroleum Corp.</td>\n",
       "      <td>1989</td>\n",
       "      <td>2.133952e+06</td>\n",
       "      <td>3</td>\n",
       "      <td>3</td>\n",
       "    </tr>\n",
       "  </tbody>\n",
       "</table>\n",
       "</div>"
      ],
      "text/plain": [
       "              sector                          name  yr_estblsh     marketcap  \\\n",
       "0  Consumer Cyclical          Chuy's Holdings Inc.        1982  4.515957e+08   \n",
       "1             Energy            Parsley Energy LLC        2008  8.161527e+09   \n",
       "2             Energy  USA Compression Partners LLC        1998  1.098975e+09   \n",
       "3             Energy             Jones Energy Inc.        1993  9.513039e+07   \n",
       "4             Energy    FieldPoint Petroleum Corp.        1989  2.133952e+06   \n",
       "\n",
       "   austin_staff_cnt  comp_staff_cnt  \n",
       "0               893            8200  \n",
       "1                 0             298  \n",
       "2                26             433  \n",
       "3                52              90  \n",
       "4                 3               3  "
      ]
     },
     "execution_count": 13,
     "metadata": {},
     "output_type": "execute_result"
    }
   ],
   "source": [
    "df_sector_comp.head()"
   ]
  },
  {
   "cell_type": "code",
   "execution_count": 14,
   "metadata": {},
   "outputs": [],
   "source": [
    "for index, row in df_sector_comp.iterrows():\n",
    "    hover_text.append(('Name: {name}<br>'+\n",
    "                      'Market Cap: {marketcap}<br>'+\n",
    "                      'Year Est. : {yr_estblsh}<br>'+\n",
    "                      'Staff Count: {comp_staff_cnt}<br>'+\n",
    "                      'Austin Staff Count: {austin_staff_cnt}').format(name=row['name'],\n",
    "                                            marketcap=row['marketcap'],\n",
    "                                            yr_estblsh=row['yr_estblsh'],\n",
    "                                            comp_staff_cnt=row['comp_staff_cnt'],\n",
    "                                            austin_staff_cnt=row['austin_staff_cnt']))\n",
    "    bubble_size.append(math.sqrt(row['comp_staff_cnt']*slope))"
   ]
  },
  {
   "cell_type": "code",
   "execution_count": 15,
   "metadata": {
    "collapsed": true
   },
   "outputs": [],
   "source": [
    "df_sector_comp['text'] = hover_text\n",
    "df_sector_comp['size'] = bubble_size\n",
    "sizeref = 2.*max(df_sector_comp['size'])/(100**2)"
   ]
  },
  {
   "cell_type": "code",
   "execution_count": 16,
   "metadata": {
    "collapsed": true
   },
   "outputs": [],
   "source": [
    "sectors = df_sector_comp[\"sector\"].unique()"
   ]
  },
  {
   "cell_type": "code",
   "execution_count": 17,
   "metadata": {},
   "outputs": [
    {
     "data": {
      "text/plain": [
       "array(['Consumer Cyclical', 'Energy', 'Financial Services', 'Healthcare',\n",
       "       'Industrials', 'Real Estate', 'Technology'], dtype=object)"
      ]
     },
     "execution_count": 17,
     "metadata": {},
     "output_type": "execute_result"
    }
   ],
   "source": [
    "sectors"
   ]
  },
  {
   "cell_type": "code",
   "execution_count": 18,
   "metadata": {
    "collapsed": true
   },
   "outputs": [],
   "source": [
    "for sector in sectors:\n",
    "    trace = go.Scatter(\n",
    "                        x=df_sector_comp['yr_estblsh'][df_sector_comp['sector'] == sector],\n",
    "                        y=df_sector_comp['marketcap'][df_sector_comp['sector'] == sector],\n",
    "                        mode='markers',\n",
    "                        name= sector,\n",
    "                        text=df_sector_comp['text'][df_sector_comp['sector'] == sector],\n",
    "                        marker=dict(\n",
    "                                    sizemode='area',\n",
    "                                    sizeref=sizeref,\n",
    "                                    size=df_sector_comp['size'][df_sector_comp['sector'] == sector],\n",
    "                                    line=dict(\n",
    "                                    width=2\n",
    "                                    ),\n",
    "                                   )\n",
    "                      )\n",
    "    traces.append(trace)"
   ]
  },
  {
   "cell_type": "code",
   "execution_count": 19,
   "metadata": {},
   "outputs": [
    {
     "name": "stdout",
     "output_type": "stream",
     "text": [
      "[{'type': 'scatter', 'x': 0    1982\n",
      "Name: yr_estblsh, dtype: int64, 'y': 0    451595710.0\n",
      "Name: marketcap, dtype: float64, 'mode': 'markers', 'name': 'Consumer Cyclical', 'text': 0    Name: Chuy's Holdings Inc.<br>Market Cap: 4515...\n",
      "Name: text, dtype: object, 'marker': {'sizemode': 'area', 'sizeref': 9.3512822721026107e-05, 'size': 0    0.467564\n",
      "Name: size, dtype: float64, 'line': {'width': 2}}}, {'type': 'scatter', 'x': 1    2008\n",
      "2    1998\n",
      "3    1993\n",
      "4    1989\n",
      "Name: yr_estblsh, dtype: int64, 'y': 1    8.161527e+09\n",
      "2    1.098975e+09\n",
      "3    9.513039e+07\n",
      "4    2.133952e+06\n",
      "Name: marketcap, dtype: float64, 'mode': 'markers', 'name': 'Energy', 'text': 1    Name: Parsley Energy LLC<br>Market Cap: 816152...\n",
      "2    Name: USA Compression Partners LLC<br>Market C...\n",
      "3    Name: Jones Energy Inc.<br>Market Cap: 9513039...\n",
      "4    Name: FieldPoint Petroleum Corp.<br>Market Cap...\n",
      "Name: text, dtype: object, 'marker': {'sizemode': 'area', 'sizeref': 9.3512822721026107e-05, 'size': 1    0.089134\n",
      "2    0.107443\n",
      "3    0.048984\n",
      "4    0.008943\n",
      "Name: size, dtype: float64, 'line': {'width': 2}}}, {'type': 'scatter', 'x': 5    1989\n",
      "6    1963\n",
      "7    1969\n",
      "Name: yr_estblsh, dtype: int64, 'y': 5    6.998678e+08\n",
      "6    1.111976e+09\n",
      "7    3.600883e+08\n",
      "Name: marketcap, dtype: float64, 'mode': 'markers', 'name': 'Financial Services', 'text': 5    Name: EZCorp Inc.<br>Market Cap: 699867758.0<b...\n",
      "6    Name: National Western Life Group Inc.<br>Mark...\n",
      "7    Name: Citizens Inc.<br>Market Cap: 360088343.0...\n",
      "Name: text, dtype: object, 'marker': {'sizemode': 'area', 'sizeref': 9.3512822721026107e-05, 'size': 5    0.386392\n",
      "6    0.084843\n",
      "7    0.139507\n",
      "Name: size, dtype: float64, 'line': {'width': 2}}}, {'type': 'scatter', 'x': 8     1998\n",
      "9     2013\n",
      "10    1993\n",
      "11    2009\n",
      "12    2005\n",
      "13    1998\n",
      "14    2007\n",
      "Name: yr_estblsh, dtype: int64, 'y': 8     878005647.0\n",
      "9     107189440.0\n",
      "10     83998247.0\n",
      "11    339472713.0\n",
      "12    171164439.0\n",
      "13     40430470.0\n",
      "14    176206632.0\n",
      "Name: marketcap, dtype: float64, 'mode': 'markers', 'name': 'Healthcare', 'text': 8     Name: Luminex Corp.<br>Market Cap: 878005647.0...\n",
      "9     Name: Aeglea BioTherapeutics Holdings LLC<br>M...\n",
      "10    Name: Vermillion Inc.<br>Market Cap: 83998247....\n",
      "11    Name: Savara Pharmaceuticals<br>Market Cap: 33...\n",
      "12    Name: XBiotech Inc.<br>Market Cap: 171164439.0...\n",
      "13    Name: Pain Therapeutics Inc.<br>Market Cap: 40...\n",
      "14    Name: Mirna Therapeutics Inc.<br>Market Cap: 1...\n",
      "Name: text, dtype: object, 'marker': {'sizemode': 'area', 'sizeref': 9.3512822721026107e-05, 'size': 8     0.156102\n",
      "9     0.028281\n",
      "10    0.029661\n",
      "11    0.025295\n",
      "12    0.053160\n",
      "13    0.015490\n",
      "14    0.015490\n",
      "Name: size, dtype: float64, 'line': {'width': 2}}}, {'type': 'scatter', 'x': 15    1954\n",
      "16    2009\n",
      "17    2007\n",
      "Name: yr_estblsh, dtype: int64, 'y': 15    716162789.0\n",
      "16     12651217.0\n",
      "17     16933907.0\n",
      "Name: marketcap, dtype: float64, 'mode': 'markers', 'name': 'Industrials', 'text': 15    Name: Thermon Group Holdings Inc.<br>Market Ca...\n",
      "16    Name: Astrotech Corp.<br>Market Cap: 12651217....\n",
      "17    Name: Ideal Power Inc.<br>Market Cap: 16933907...\n",
      "Name: text, dtype: object, 'marker': {'sizemode': 'area', 'sizeref': 9.3512822721026107e-05, 'size': 15    0.164986\n",
      "16    0.040657\n",
      "17    0.028281\n",
      "Name: size, dtype: float64, 'line': {'width': 2}}}, {'type': 'scatter', 'x': 18    1993\n",
      "19    2006\n",
      "20    1992\n",
      "Name: yr_estblsh, dtype: int64, 'y': 18    4.945461e+09\n",
      "19    1.063152e+09\n",
      "20    2.460384e+08\n",
      "Name: marketcap, dtype: float64, 'mode': 'markers', 'name': 'Real Estate', 'text': 18    Name: American Campus Communities Inc.<br>Mark...\n",
      "19    Name: Forestar Group Inc.<br>Market Cap: 10631...\n",
      "20    Name: Stratus Properties Inc.<br>Market Cap: 2...\n",
      "Name: text, dtype: object, 'marker': {'sizemode': 'area', 'sizeref': 9.3512822721026107e-05, 'size': 18    0.290713\n",
      "19    0.039661\n",
      "20    0.057265\n",
      "Name: size, dtype: float64, 'line': {'width': 2}}}, {'type': 'scatter', 'x': 21    1976\n",
      "22    1984\n",
      "23    1996\n",
      "24    2005\n",
      "25    2004\n",
      "26    1996\n",
      "27    2015\n",
      "28    2010\n",
      "29    1989\n",
      "30    2011\n",
      "Name: yr_estblsh, dtype: int64, 'y': 21    6.610098e+09\n",
      "22    2.766574e+09\n",
      "23    4.018875e+09\n",
      "24    4.741026e+08\n",
      "25    1.922794e+09\n",
      "26    3.365493e+07\n",
      "27    1.728297e+08\n",
      "28    4.959167e+08\n",
      "29    1.833869e+08\n",
      "30    1.258834e+07\n",
      "Name: marketcap, dtype: float64, 'mode': 'markers', 'name': 'Technology', 'text': 21    Name: National Instruments Corp.<br>Market Cap...\n",
      "22    Name: Cirrus Logic Inc.<br>Market Cap: 2766574...\n",
      "23    Name: Silicon Laboratories Inc.<br>Market Cap:...\n",
      "24    Name: Bazaarvoice Inc.<br>Market Cap: 47410258...\n",
      "25    Name: Q2 Holdings Inc.<br>Market Cap: 19227935...\n",
      "26    Name: Xplore Technologies Corp.<br>Market Cap:...\n",
      "27    Name: Digital Turbine Inc.<br>Market Cap: 1728...\n",
      "28    Name: Upland Software Inc.<br>Market Cap: 4959...\n",
      "29    Name: Asure Software Inc.<br>Market Cap: 18338...\n",
      "30    Name: Superconductor Technologies Inc. (STI)<b...\n",
      "Name: text, dtype: object, 'marker': {'sizemode': 'area', 'sizeref': 9.3512822721026107e-05, 'size': 21    0.448709\n",
      "22    0.185523\n",
      "23    0.182699\n",
      "24    0.141970\n",
      "25    0.140649\n",
      "26    0.055130\n",
      "27    0.065516\n",
      "28    0.081803\n",
      "29    0.069081\n",
      "30    0.024763\n",
      "Name: size, dtype: float64, 'line': {'width': 2}}}]\n"
     ]
    }
   ],
   "source": [
    "print(traces)"
   ]
  },
  {
   "cell_type": "code",
   "execution_count": 20,
   "metadata": {},
   "outputs": [],
   "source": [
    "layout = go.Layout(\n",
    "    title='Year Established v. Market Cap',\n",
    "    xaxis=dict(\n",
    "        title='Year Established',\n",
    "        gridcolor='rgb(255, 255, 255)',\n",
    "        range=[df_sector_comp[\"yr_estblsh\"].min() - 10 , df_sector_comp[\"yr_estblsh\"].max() + 10],\n",
    "        zerolinewidth=1,\n",
    "        ticklen=5,\n",
    "        gridwidth=2,\n",
    "    ),\n",
    "    yaxis=dict(\n",
    "        title='Market Cap',\n",
    "        gridcolor='rgb(255, 255, 255)',\n",
    "        range=[df_sector_comp[\"marketcap\"].min() - 1000000000, df_sector_comp[\"marketcap\"].max() + 1000000000],\n",
    "        zerolinewidth=1,\n",
    "        ticklen=5,\n",
    "        gridwidth=2,\n",
    "    ),\n",
    "    paper_bgcolor='rgb(243, 243, 243)',\n",
    "    plot_bgcolor='rgb(243, 243, 243)',\n",
    "    showlegend=False\n",
    ")"
   ]
  },
  {
   "cell_type": "code",
   "execution_count": null,
   "metadata": {
    "collapsed": true
   },
   "outputs": [],
   "source": []
  },
  {
   "cell_type": "code",
   "execution_count": 21,
   "metadata": {
    "collapsed": true
   },
   "outputs": [],
   "source": [
    "fig = go.Figure(data=traces, layout=layout)\n"
   ]
  },
  {
   "cell_type": "code",
   "execution_count": null,
   "metadata": {
    "collapsed": true
   },
   "outputs": [],
   "source": []
  },
  {
   "cell_type": "code",
   "execution_count": 22,
   "metadata": {},
   "outputs": [
    {
     "data": {
      "text/html": [
       "<iframe id=\"igraph\" scrolling=\"no\" style=\"border:none;\" seamless=\"seamless\" src=\"https://plot.ly/~jiji_v_jacob/2.embed\" height=\"525px\" width=\"100%\"></iframe>"
      ],
      "text/plain": [
       "<plotly.tools.PlotlyDisplay object>"
      ]
     },
     "execution_count": 22,
     "metadata": {},
     "output_type": "execute_result"
    }
   ],
   "source": [
    "py.iplot(fig, filename='atxPublicCompanies')"
   ]
  },
  {
   "cell_type": "code",
   "execution_count": null,
   "metadata": {
    "collapsed": true
   },
   "outputs": [],
   "source": []
  }
 ],
 "metadata": {
  "kernelspec": {
   "display_name": "Python 3",
   "language": "python",
   "name": "python3"
  },
  "language_info": {
   "codemirror_mode": {
    "name": "ipython",
    "version": 3
   },
   "file_extension": ".py",
   "mimetype": "text/x-python",
   "name": "python",
   "nbconvert_exporter": "python",
   "pygments_lexer": "ipython3",
   "version": "3.6.2"
  }
 },
 "nbformat": 4,
 "nbformat_minor": 2
}
