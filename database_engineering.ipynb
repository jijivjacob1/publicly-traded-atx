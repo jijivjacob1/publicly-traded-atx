{
 "cells": [
  {
   "cell_type": "code",
   "execution_count": 1,
   "metadata": {
    "collapsed": true
   },
   "outputs": [],
   "source": [
    "import pandas as pd\n",
    "import sqlalchemy\n",
    "from sqlalchemy import create_engine, MetaData\n",
    "from sqlalchemy.ext.declarative import declarative_base\n",
    "from sqlalchemy import Column,Integer,String,Numeric,Text,Float,ForeignKey\n",
    "from sqlalchemy.orm import sessionmaker,relationship\n",
    "import datetime\n",
    "import dateutil.relativedelta\n",
    "import quandl"
   ]
  },
  {
   "cell_type": "code",
   "execution_count": 2,
   "metadata": {
    "collapsed": true
   },
   "outputs": [],
   "source": [
    "engine = create_engine(\"sqlite:///pub_atx.sqlite\")"
   ]
  },
  {
   "cell_type": "code",
   "execution_count": 3,
   "metadata": {
    "collapsed": true
   },
   "outputs": [],
   "source": [
    "Base = declarative_base()"
   ]
  },
  {
   "cell_type": "code",
   "execution_count": 4,
   "metadata": {
    "collapsed": true
   },
   "outputs": [],
   "source": [
    "class Company(Base):\n",
    "    __tablename__ = 'cmpny'\n",
    "    \n",
    "    id_cmpny = Column(Integer, primary_key=True)\n",
    "    rank = Column(Integer)\n",
    "    name = Column(Text)\n",
    "    address = Column(Text)\n",
    "    city = Column(Text)\n",
    "    state = Column(Text)\n",
    "    zip_code = Column(Text)\n",
    "    phn_nbr = Column(Text)\n",
    "    website = Column(Text)\n",
    "    tckr = Column(Text)\n",
    "    ipo_yr = Column(Integer)\n",
    "    yr_founded = Column(Integer)\n",
    "    gen_buss_desc = Column(Text)\n",
    "    curr_top_exec = Column(Text)\n",
    "    yr_estblsh = Column(Integer)\n",
    "    austin_staff_cnt = Column(Float)\n",
    "    comp_staff_cnt = Column(Float)\n",
    "    tot_local_emp_cnt = Column(Float)\n",
    "    exchng = Column(Text)\n",
    "    lat = Column(Float)\n",
    "    lng = Column(Float)\n",
    "    industry = Column(Text)\n",
    "    sector = Column(Text)\n",
    "    marketcap = Column(Float)\n",
    "    \n",
    "    def __repr__(self):\n",
    "        return f\"id={self.id},name=[self.name]\"\n",
    "    \n",
    "class CompanyPrcsMnthly(Base):\n",
    "    __tablename__ = 'cmpny_prcs_mnthly'\n",
    "    \n",
    "    id_cmpny_prcs_mnthly = Column(Integer, primary_key=True)\n",
    "    id_cmpny = Column(Integer)\n",
    "    date = Column(Text)\n",
    "    open = Column(Float)\n",
    "    high = Column(Float)\n",
    "    low = Column(Float)\n",
    "    close = Column(Float)\n",
    "    volume = Column(Float)\n",
    "    \n",
    "    \n",
    "    def __repr__(self):\n",
    "        return f\"id={self.id_cmpny_prcs_mnthly},name=[self.id_cmpny]\"\n",
    "    \n",
    "class CompanyPrcsDaily(Base):\n",
    "    __tablename__ = 'cmpny_prcs_daily'\n",
    "    \n",
    "    id_cmpny_prcs_daily = Column(Integer, primary_key=True)\n",
    "    id_cmpny = Column(Integer)\n",
    "    date = Column(Text)\n",
    "    open = Column(Float)\n",
    "    high = Column(Float)\n",
    "    low = Column(Float)\n",
    "    close = Column(Float)\n",
    "    volume = Column(Float)\n",
    "    \n",
    "    \n",
    "    def __repr__(self):\n",
    "        return f\"id={self.id_cmpny_prcs_daily},name=[self.id_cmpny]\""
   ]
  },
  {
   "cell_type": "code",
   "execution_count": 5,
   "metadata": {
    "collapsed": true
   },
   "outputs": [],
   "source": [
    "!rm pub_atx.sqlite"
   ]
  },
  {
   "cell_type": "code",
   "execution_count": 6,
   "metadata": {
    "collapsed": true
   },
   "outputs": [],
   "source": [
    "Base.metadata.create_all(engine)"
   ]
  },
  {
   "cell_type": "code",
   "execution_count": 7,
   "metadata": {},
   "outputs": [
    {
     "data": {
      "text/plain": [
       "['cmpny', 'cmpny_prcs_daily', 'cmpny_prcs_mnthly']"
      ]
     },
     "execution_count": 7,
     "metadata": {},
     "output_type": "execute_result"
    }
   ],
   "source": [
    "engine.table_names()"
   ]
  },
  {
   "cell_type": "code",
   "execution_count": 8,
   "metadata": {},
   "outputs": [
    {
     "data": {
      "text/plain": [
       "<sqlalchemy.engine.result.ResultProxy at 0x10e495eb8>"
      ]
     },
     "execution_count": 8,
     "metadata": {},
     "output_type": "execute_result"
    }
   ],
   "source": [
    "conn =engine.connect()\n",
    "df_company = pd.read_csv(\"clean_company_list.csv\")\n",
    "data = df_company.to_dict(orient='records')\n",
    "conn.execute(Company.__table__.delete())\n",
    "conn.execute(Company.__table__.insert(),data)"
   ]
  },
  {
   "cell_type": "code",
   "execution_count": 9,
   "metadata": {
    "collapsed": true
   },
   "outputs": [],
   "source": [
    "companies = engine.execute(\"select * from cmpny\").fetchall()"
   ]
  },
  {
   "cell_type": "code",
   "execution_count": 10,
   "metadata": {},
   "outputs": [
    {
     "data": {
      "text/plain": [
       "[(1, 1, 'Whole Foods Market Inc.', '550 Bowie St.', 'Austin', 'TX', '78703', '512-476-1206', 'wholefoodsmarket.com', 'WFMI', 1992, 1980, 'Retail grocery of natural and organic foods; operates 431 stores:U.S. (412), Canada (10), U.K.(9)', 'John  Mackey,  CEO', 1980, 3000.0, 87000.0, 2530.0, 'Nasdaq', 30.270634700000002, -97.7528921, 'unknown', 'unknown', 0.0),\n",
       " (2, 2, 'National Instruments Corp.', '11500 N. MoPac Expy.', 'Austin', 'TX', '78759', '512-683-0100', 'ni.com', 'NATI', 1995, 1976, 'Designs, manufactures and sells tools to engineers and scientists, equipping them with systems that accelerate productivity, innovation and discovery ', 'Alex  Davern,  President/CEO', 1976, 2500.0, 7552.0, 2600.0, 'Nasdaq', 30.4083821, -97.7262444, 'Application Software', 'Technology', 6679636113.0),\n",
       " (3, 3, 'Cirrus Logic Inc.', '800 W. Sixth St.', 'Austin', 'TX', '78701', '512-851-4000', 'cirrus.com', 'CRUS', 1989, 1984, 'Semiconductor developing high-precision, analog and mixed-signal integrated circuits for audio and energy applications', 'Jason  Rhode,  President/CEO', 1984, 740.0, 1291.0, 680.0, 'Nasdaq', 30.2708146, -97.7506641, 'Semiconductors', 'Technology', 2803960147.0),\n",
       " (4, 4, 'American Campus Communities Inc.', '12700 Hill Country Blvd.', 'Austin', 'TX', '78738', '512-732-1000', 'AmericanCampus.com', 'ACC', 2004, 1993, 'Real estate investment trust (REIT) owns manages and develops high quality student housing properties', 'William  Bayless,  President/CEO', 1993, 375.0, 3170.0, 397.0, 'NYSE', 30.3090124, -97.94132490000001, 'REITs', 'Real Estate', 5102351324.0),\n",
       " (5, 5, 'EZCorp Inc.', '2500 Bee Cave Rd. Bldg. 1-200', 'Austin', 'TX', '78746', '512-314-3400', 'ezcorp.com', 'EZPW', 1991, 1989, 'Provides pawn loans and consumer loans in the U.S,, Mexico and Canada', 'Stuart  Grimshaw,  CEO', 1989, 240.0, 5600.0, 270.0, 'Nasdaq', 30.268118599999998, -97.78454559999999, 'Credit Services', 'Financial Services', 716207084.0),\n",
       " (6, 6, 'Silicon Laboratories Inc.', '400 W. Cesar Chavez St.', 'Austin', 'TX', '78701', '512-416-8500', 'silabs.com', 'SLAB', 2000, 1996, 'Designs mixed-signal integrated circuits and provides semiconductor and software products for the Internet of Things market', 'Tyson  Tuttle,  CEO', 1996, 650.0, 1252.0, 600.0, 'Nasdaq', 30.2648128, -97.7484564, 'Semiconductors', 'Technology', 4061583961.0),\n",
       " (7, 7, 'National Western Life Group Inc.', '850 E. Anderson Ln.', 'Austin', 'TX', '78752', '512-836-1010', 'nationalwesternlife.com', 'NWLI', 1978, 1963, 'Life insurance company', 'Ross  Moody,  CEO/President', 1963, 270.0, 270.0, 261.0, 'Nasdaq', 30.33874, -97.6976923, 'Insurance - Life', 'Financial Services', 1108157950.0),\n",
       " (8, 8, 'Parsley Energy LLC', '303 Colorado St.', 'Austin', 'TX', '78701', '512-505-5131', 'parsleyenergy.com', 'PE', 2014, 2008, 'Indep. oil & gas exploration and production company focused on the acquisition, development and exploitation of unconventional reserves in the Permian Basin', 'Bryan  Sheffield,  President/CEO', 2008, 0.0, 298.0, 111.0, 'NYSE', 30.265829600000004, -97.744641, 'Oil & Gas - E&P', 'Energy', 8240124079.0),\n",
       " (9, 9, \"Chuy's Holdings Inc.\", '1623 Toomey Rd.', 'Austin', 'TX', '78704', '512-473-2783', 'chuys.com', 'CHUY', 2012, 1982, 'Full-service Tex Mex restaurant concept ', 'Steven  Hislop,  President/CEO', 1982, 893.0, 8200.0, 250.0, 'Nasdaq', 30.2643533, -97.7612369, 'Restaurants', 'Consumer Cyclical', 460052558.0),\n",
       " (10, 10, 'Thermon Group Holdings Inc.', '100 Thermon Dr.', 'San Marcos', 'TX', '78666', '512-396-5801', 'thermon.com', 'THR', 2011, 1954, 'Provider of highly engineered thermal solutions for process industries', 'Bruce  Thames,  President/CEO', 1954, 450.0, 1021.0, 0.0, 'NYSE', 29.8538875, -97.9577965, 'Industrial Products', 'Industrials', 727200656.0),\n",
       " (11, 11, 'Amplify Snack Brands', '500 W. Fifth St. #1350', 'Austin', 'TX', '78701', '512-600-9893', 'amplifysnackbrands.com', 'BETR', 2015, 0, 'Better-for-you (BFY) snack food company with two main brands: SkinnyPop and Paqui', 'Thomas  Ennis,  President/CEO', 0, 0.0, 623.0, 24.0, 'NYSE', 35.2317548, -80.84569300000001, 'Consumer Packaged Goods', 'Consumer Defensive', 920878896.0),\n",
       " (12, 12, 'Luminex Corp.', '12212 Technology Blvd.', 'Austin', 'TX', '78727', '512-219-8020', 'luminexcorp.com', 'LMNX', 2000, 1995, 'Develops, manufactures and markets proprietary biological testing technologies, with applications throughout the life-sciences industry', 'Nachum “Homi”  Shamir,  President/CEO', 1998, 475.0, 914.0, 500.0, 'Nasdaq', 30.433764500000002, -97.7608291, 'Medical Instruments & Equipment', 'Healthcare', 893865257.0),\n",
       " (13, 13, 'USA Compression Partners LLC', '100 Congress Ave.', 'Austin', 'TX', '78701', '512-473-2662', 'usacompression.com', 'USAC', 2013, 1998, 'Independent providers of compression services for natural gas in shale plays', 'Eric  Long,  President/CEO ', 1998, 26.0, 433.0, 37.0, 'NYSE', 30.263980699999998, -97.7448532, 'Oil & Gas - Services', 'Energy', 1119499290.0),\n",
       " (14, 14, 'Citizens Inc.', '400 E. Anderson Lane', 'Austin', 'TX', '78752', '512-837-7100', 'citizensinc.com', 'CIA', 1988, 1969, 'Life insurance holding company ', 'Geoffrey  Kolander,  CEO', 1969, 134.0, 730.0, 0.0, 'NYSE', 30.3427668, -97.7027654, 'Insurance - Life', 'Financial Services', 364094890.0),\n",
       " (15, 15, 'Bazaarvoice Inc.', '10901 Stonelake Blvd.', 'Austin', 'TX', '78759', '512-551-6000', 'bazaarvoice.com', 'BV', 2012, 2005, 'Powers an online network connecting brands and retailers to shoppers; includes online product ratings, reviews and analytics that drive brand awareness, consideration, sales and loyalty', 'Gene  Austin,  CEO', 2005, 555.0, 756.0, 600.0, 'Nasdaq', 30.3995864, -97.7369939, 'Application Software', 'Technology', 474102585.0),\n",
       " (16, 16, 'Forestar Group Inc.', '6300 Bee Caves Rd.', 'Austin', 'TX', '78746', '512-433-5200', 'forestargroup.com', 'FOR', 2007, 2006, 'Real estate and oil & gas company', 'Phillip  Weber,  CEO', 2006, 0.0, 59.0, 43.0, 'NYSE', 30.2973869, -97.8305939, 'Real Estate Services', 'Real Estate', 1069442868.0),\n",
       " (17, 17, 'Q2 Holdings Inc.', '13785 Research Blvd.', 'Austin', 'TX', '78750', '512-275-0072', 'q2ebanking.com', 'QTWO', 2014, 2004, 'Holding company, which through its subsidiaries provides secure, cloud-based digital banking solutions for community-focused financial institutions ', 'Matt  Flake,  President/CEO', 2004, 758.0, 742.0, 465.0, 'NYSE', 30.463261600000003, -97.7930389, 'Application Software', 'Technology', 1969024684.0),\n",
       " (18, 18, 'Jones Energy Inc.', '807 Las Cimas Pkwy.', 'Austin', 'TX', '78746', '512-328-2953', 'jonesenergy.com', 'JONE', 2013, 1988, 'Independent oil and gas company engaged in the development, production and acquisition of oil and natural gas properties in the Anadarko and Arkoma basins of Texas and, Oklahoma.', 'Jonny  Jones,  CEO', 1993, 52.0, 90.0, 53.0, 'NYSE', 30.2887157, -97.8295716, 'Oil & Gas - E&P', 'Energy', 99053294.0),\n",
       " (19, 19, 'Xplore Technologies Corp.', '14000 Summit Dr. #900', 'Austin', 'TX', '78728', '512-336-7797', 'xploretech.com', 'XPLR', 2012, 1996, 'Rugged, mobile computers', 'Mark  Holleran,  President/COO', 1996, 0.0, 114.0, 80.0, 'Nasdaq', 41.6141026, -93.811854, 'Computer Hardware', 'Technology', 34206652.0),\n",
       " (20, 20, 'Digital Turbine Inc.', '1300 Guadalupe St.', 'Austin', 'TX', '78701', '512-387-7717', 'digitalturbine.com', 'APPS', 1998, 1998, 'Mobile software and advertising company that partners with wireless carriers and advertisers, to deliver the right app to the right person at the right time', 'Bill  Stone III,  CEO', 2015, 27.0, 161.0, 25.0, 'Nasdaq', 30.2764381, -97.7439666, 'Application Software', 'Technology', 175835448.0),\n",
       " (21, 21, 'Stratus Properties Inc.', '212 Lavaca St.', 'Austin', 'TX', '78701', '512-478-5788', 'stratusproperties.com', 'STRS', 1992, 1992, 'Diversified real estate company engaged primarily in the development, management, operation and/or sale of commercial, hotel, entertainment, and multi- and single-family residential real estate properties in Texas', 'William  Armstrong,  President/CEO', 1992, 40.0, 123.0, 39.0, 'Nasdaq', 30.265825800000002, -97.7465473, 'Real Estate Services', 'Real Estate', 247258461.0),\n",
       " (22, 22, 'Upland Software Inc.', '401 Congress Ave. #1850', 'Austin', 'TX', '78701', '512-960-1010', 'uplandsoftware.com', 'UPLD', 2014, 2010, 'Provider of cloud-based enterprise work management software', 'Jack  McDonald,  CEO', 2010, 0.0, 251.0, 0.0, 'Nasdaq', 30.266399, -97.742779, 'Application Software', 'Technology', 494670155.0),\n",
       " (23, 23, 'Asure Software Inc.', '110 Wild Basin Rd. #100', 'Austin', 'TX', '78746', '888-323-8835', 'asuresoftware.com', 'ASUR', 1992, 1985, 'Provider of cloud-based software-as-a-service (“SaaS”) for workforce management and space utilization ', 'Patrick  Goepel,  CEO', 1989, 50.0, 179.0, 45.0, 'Nasdaq', 30.3065468, -97.8278719, 'Application Software', 'Technology', 181516899.0),\n",
       " (24, 24, 'Aeglea BioTherapeutics Holdings LLC', 'Ppac Expy.', 'Austin', 'TX', '78746', '512-942-2935', 'aegleabio.com', 'AGLE', 2016, 0, 'Develops enzymes that target metabolic diseases, including cancerous tumors. Four drug candidates that degrade specific amino acids in the circulation are in development. ', 'David  Lowe,  President/CEO', 2013, 37.0, 30.0, 24.0, 'Nasdaq', 30.407975800000003, -97.7317193, 'Biotechnology', 'Healthcare', 106190781.0),\n",
       " (25, 25, 'FieldPoint Petroleum Corp.', '609 Castle Ridge Rd. #335', 'Austin', 'TX', '78746', '512-579-3560', 'fppcorp.com', 'FPP', 1998, 1989, 'Oil and gas exploration, production and acquisition.', 'Phillip  Roberson,  President/CFO', 1989, 3.0, 3.0, 4.0, 'AMEX', None, None, 'Oil & Gas - E&P', 'Energy', 2133952.0),\n",
       " (26, 26, 'Astrotech Corp.', '401 Congress Ave. # 1650', 'Austin', 'TX', '78701', '512-485-9530', 'astrotechcorp.com', 'ASTC', 1995, 1984, 'Advanced government technology commercialization', 'Thomas   Pickens III,  CEO', 2009, 14.0, 62.0, 0.0, 'Nasdaq', 30.266399, -97.742779, 'Aerospace & Defense', 'Industrials', 12363689.0),\n",
       " (27, 27, 'Vermillion Inc.', '12117 Bee Caves Rd.', 'Austin', 'TX', '78738', '512-519-0400', 'vermillion.com', 'VRML', 2003, 1993, 'Discovery, development and commercialization of medical tests to diagnose, treat patients with gynecologic cancers and related diseases', 'Valerie  Palmieri,  President/CEO', 1993, 11.0, 33.0, 16.0, 'Nasdaq', 30.307557, -97.9286189, 'Medical Diagnostics & Research', 'Healthcare', 82198285.0),\n",
       " (28, 28, 'Ideal Power Inc.', '4120 Freidrich Ln.', 'Austin', 'TX', '78744', '512-264-1542', 'idealpower.com', 'IPWR', 2014, 2017, 'Patented power conversion technology for energy storage, renewables integration and microgrids', 'Daniel  Brdar,  President/CEO', 2007, 25.0, 30.0, 26.0, 'Nasdaq', 30.2141707, -97.7460855, 'Industrial Products', 'Industrials', 17355190.0),\n",
       " (29, 29, 'Crossroads Systems Inc.', '11000 N. MoPac Expwy.', 'Austin', 'TX', '78759', '512-349-0300', 'crossroads.com', 'CRDS', 1999, 1995, 'Software to help storage, management, protection, archiving and retrieval of digital data', \"Richard 'Rick'  Coleman Jr.,  President/CEO\", 1995, 5.0, 5.0, 0.0, 'Nasdaq', 30.400165100000002, -97.7324026, 'unknown', 'unknown', 0.0),\n",
       " (30, 30, 'Savara Pharmaceuticals', '900 S. Capital of Texas Hwy.', 'Austin', 'TX', '78746', '512-961-1891', 'savarapharma.com', 'SVRA', 2017, 2008, 'Clinical-stage pharmaceutical company developing therapies for the treatment of serious or life-threatening rare respiratory diseases', 'Rob  Neville,  CEO', 2009, 15.0, 24.0, 0.0, 'Nasdaq', 30.2877103, -97.8294477, 'Biotechnology', 'Healthcare', 352893018.0),\n",
       " (31, 31, 'Victory Energy', '3355 Bee Cave Rd. #608', 'Austin', 'TX', '78746', '512-347-7300', 'vyey.com', 'VYEY', 2006, 1982, 'Oil and gas exploration and production company with resources located in Midland, Tx. focused on  low-risk vertical well development', 'Kenneth  Hill,  Kenneth  Hill,  CEO', 2006, 4.0, 2.0, 5.0, 'OTCQB', None, None, 'unknown', 'unknown', 0.0),\n",
       " (32, 32, 'Superconductor Technologies Inc. (STI)', '9101 Wall St.', 'Austin', 'TX', '78754', '512-334-8900', 'suptech.com', 'SCON', 1993, 1987, 'Develop and manufacture high temperature superconductor (“HTS”) materials and related, technologies', 'Jeffery  Quiram,  President/CEO', 2011, 25.0, 23.0, 25.0, 'Nasdaq', 30.3422541, -97.6683286, 'Semiconductors', 'Technology', 12803521.0),\n",
       " (33, 33, 'XBiotech Inc.', '8201 E. Riverside', 'Austin', 'TX', '78744', '512-386-2900', 'xbiotech.com', 'XBIT', 2015, 2005, 'Develops therapeutic antibodies for cancer, type II diabetes, acne, psoriasis and Ebola', 'John  Simard,  President/CEO', 2005, 0.0, 106.0, 0.0, 'Nasdaq', 30.2164665, -97.6848849, 'Biotechnology', 'Healthcare', 170810061.0),\n",
       " (34, 33, 'Pain Therapeutics Inc.', '7801 N. Capital of Tx. Hwy.', 'Austin', 'TX', '78731', '512-501-2444', 'paintrials.com', 'PTIE', 2000, 1998, 'Biopharmaceutical company that develops novel drugs', 'Remi  Barbier,  President/CEO', 1998, 9.0, 9.0, 8.0, 'Nasdaq', 30.3764005, -97.7783066, 'Biotechnology', 'Healthcare', 41090021.0),\n",
       " (35, 33, 'Mirna Therapeutics Inc.', '2150 Woodward St.', 'Austin', 'TX', '78744', '512-901-0900', 'mirnarx.com', 'MIRN', 2015, 2007, 'Clinical stage biopharmaceutical company developing microRNA based oncology therapeutics. In September 2016, Mirna halted the phase 1 trial due to immune-related adverse events and theFDA put MRX34 of full clinical hold. ', 'Paul  Lammers,  President/CEO', 2007, 9.0, 9.0, 0.0, 'Nasdaq', 30.212466999999997, -97.7439969, 'unknown', 'unknown', 0.0)]"
      ]
     },
     "execution_count": 10,
     "metadata": {},
     "output_type": "execute_result"
    }
   ],
   "source": [
    "companies"
   ]
  },
  {
   "cell_type": "code",
   "execution_count": 11,
   "metadata": {
    "collapsed": true
   },
   "outputs": [],
   "source": [
    "\n",
    "d1 = datetime.date.today()\n",
    "d2 = d1 - dateutil.relativedelta.relativedelta(months=36)\n",
    "start_dt = d2.strftime(\"%Y-%m-%d\")\n",
    "end_dt = d1.strftime(\"%Y-%m-%d\")\n"
   ]
  },
  {
   "cell_type": "code",
   "execution_count": 12,
   "metadata": {
    "collapsed": true
   },
   "outputs": [],
   "source": [
    "quandl.ApiConfig.api_key = \n"
   ]
  },
  {
   "cell_type": "code",
   "execution_count": 13,
   "metadata": {},
   "outputs": [
    {
     "data": {
      "text/plain": [
       "<sqlalchemy.engine.result.ResultProxy at 0x10e3e8eb8>"
      ]
     },
     "execution_count": 13,
     "metadata": {},
     "output_type": "execute_result"
    }
   ],
   "source": [
    "conn.execute(CompanyPrcsMnthly.__table__.delete())"
   ]
  },
  {
   "cell_type": "code",
   "execution_count": 14,
   "metadata": {},
   "outputs": [
    {
     "name": "stdout",
     "output_type": "stream",
     "text": [
      "WFMI not found \n",
      "BETR not found \n",
      "USAC not found \n",
      "XPLR not found \n",
      "APPS not found \n",
      "STRS not found \n",
      "UPLD not found \n",
      "ASUR not found \n",
      "AGLE not found \n",
      "FPP not found \n",
      "ASTC not found \n",
      "VRML not found \n",
      "IPWR not found \n",
      "CRDS not found \n",
      "SVRA not found \n",
      "VYEY not found \n",
      "SCON not found \n",
      "XBIT not found \n",
      "MIRN not found \n"
     ]
    }
   ],
   "source": [
    "for company in companies:\n",
    "    try:\n",
    "       \n",
    "        data = quandl.get(\"WIKI\" +\"/\" + company.tckr,collapse=\"monthly\", start_date=start_dt, end_date=end_dt)\n",
    "        data = data.reset_index()\n",
    "        data = data[['Date','Open','High','Low','Close','Volume']]\n",
    "        data.columns = [\"date\",\"open\",\"high\",\"low\",\"close\",\"volume\"]\n",
    "        data[\"id_cmpny\"] = company.id_cmpny\n",
    "        data = data[[\"id_cmpny\", \"date\",\"open\",\"high\",\"low\",\"close\",\"volume\"]]\n",
    "        data['date'] = data['date'].astype('str')\n",
    "        data = data.to_dict(orient='records')\n",
    "        \n",
    "        conn.execute(CompanyPrcsMnthly.__table__.insert(),data)\n",
    "    except quandl.NotFoundError as e:\n",
    "        print(company.tckr + \" not found \")\n",
    "        continue"
   ]
  },
  {
   "cell_type": "code",
   "execution_count": 15,
   "metadata": {},
   "outputs": [
    {
     "data": {
      "text/plain": [
       "<sqlalchemy.engine.result.ResultProxy at 0x10e4dd588>"
      ]
     },
     "execution_count": 15,
     "metadata": {},
     "output_type": "execute_result"
    }
   ],
   "source": [
    "conn.execute(CompanyPrcsDaily.__table__.delete())"
   ]
  },
  {
   "cell_type": "code",
   "execution_count": 16,
   "metadata": {},
   "outputs": [
    {
     "name": "stdout",
     "output_type": "stream",
     "text": [
      "WFMI not found \n",
      "BETR not found \n",
      "USAC not found \n",
      "XPLR not found \n",
      "APPS not found \n",
      "STRS not found \n",
      "UPLD not found \n",
      "ASUR not found \n",
      "AGLE not found \n",
      "FPP not found \n",
      "ASTC not found \n",
      "VRML not found \n",
      "IPWR not found \n",
      "CRDS not found \n",
      "SVRA not found \n",
      "VYEY not found \n",
      "SCON not found \n",
      "XBIT not found \n",
      "MIRN not found \n"
     ]
    }
   ],
   "source": [
    "for company in companies:\n",
    "    try:\n",
    "       \n",
    "        data = quandl.get(\"WIKI\" +\"/\" + company.tckr, start_date=start_dt, end_date=end_dt)\n",
    "        data = data.reset_index()\n",
    "        data = data[['Date','Open','High','Low','Close','Volume']]\n",
    "        data.columns = [\"date\",\"open\",\"high\",\"low\",\"close\",\"volume\"]\n",
    "        data[\"id_cmpny\"] = company.id_cmpny\n",
    "        data = data[[\"id_cmpny\", \"date\",\"open\",\"high\",\"low\",\"close\",\"volume\"]]\n",
    "        data['date'] = data['date'].astype('str')\n",
    "        data = data.to_dict(orient='records')\n",
    "        \n",
    "        conn.execute(CompanyPrcsDaily.__table__.insert(),data)\n",
    "    except quandl.NotFoundError as e:\n",
    "        print(company.tckr + \" not found \")\n",
    "        continue"
   ]
  },
  {
   "cell_type": "code",
   "execution_count": 17,
   "metadata": {},
   "outputs": [
    {
     "data": {
      "text/plain": [
       "[(591,)]"
      ]
     },
     "execution_count": 17,
     "metadata": {},
     "output_type": "execute_result"
    }
   ],
   "source": [
    "\n",
    "engine.execute(\"select count(*) from cmpny_prcs_mnthly\").fetchall()"
   ]
  },
  {
   "cell_type": "code",
   "execution_count": 18,
   "metadata": {},
   "outputs": [
    {
     "data": {
      "text/plain": [
       "[(12046,)]"
      ]
     },
     "execution_count": 18,
     "metadata": {},
     "output_type": "execute_result"
    }
   ],
   "source": [
    "engine.execute(\"select count(*) from cmpny_prcs_daily\").fetchall()"
   ]
  },
  {
   "cell_type": "code",
   "execution_count": 19,
   "metadata": {
    "collapsed": true
   },
   "outputs": [],
   "source": [
    "\n",
    "# engine.execute(\"select * from cmpny_prcs_mnthly\").fetchall()"
   ]
  },
  {
   "cell_type": "code",
   "execution_count": 20,
   "metadata": {
    "collapsed": true
   },
   "outputs": [],
   "source": [
    "# engine.execute(\"select * from cmpny_prcs_daily\").fetchall()"
   ]
  },
  {
   "cell_type": "code",
   "execution_count": null,
   "metadata": {
    "collapsed": true
   },
   "outputs": [],
   "source": []
  },
  {
   "cell_type": "code",
   "execution_count": null,
   "metadata": {
    "collapsed": true
   },
   "outputs": [],
   "source": []
  },
  {
   "cell_type": "code",
   "execution_count": null,
   "metadata": {
    "collapsed": true
   },
   "outputs": [],
   "source": []
  },
  {
   "cell_type": "code",
   "execution_count": null,
   "metadata": {
    "collapsed": true
   },
   "outputs": [],
   "source": [
    "\n"
   ]
  },
  {
   "cell_type": "code",
   "execution_count": null,
   "metadata": {
    "collapsed": true
   },
   "outputs": [],
   "source": []
  },
  {
   "cell_type": "code",
   "execution_count": null,
   "metadata": {
    "collapsed": true
   },
   "outputs": [],
   "source": []
  },
  {
   "cell_type": "code",
   "execution_count": null,
   "metadata": {
    "collapsed": true
   },
   "outputs": [],
   "source": []
  },
  {
   "cell_type": "code",
   "execution_count": null,
   "metadata": {
    "collapsed": true
   },
   "outputs": [],
   "source": []
  },
  {
   "cell_type": "code",
   "execution_count": null,
   "metadata": {
    "collapsed": true
   },
   "outputs": [],
   "source": []
  },
  {
   "cell_type": "code",
   "execution_count": null,
   "metadata": {
    "collapsed": true
   },
   "outputs": [],
   "source": []
  },
  {
   "cell_type": "code",
   "execution_count": null,
   "metadata": {
    "collapsed": true
   },
   "outputs": [],
   "source": []
  }
 ],
 "metadata": {
  "kernelspec": {
   "display_name": "Python 3",
   "language": "python",
   "name": "python3"
  },
  "language_info": {
   "codemirror_mode": {
    "name": "ipython",
    "version": 3
   },
   "file_extension": ".py",
   "mimetype": "text/x-python",
   "name": "python",
   "nbconvert_exporter": "python",
   "pygments_lexer": "ipython3",
   "version": "3.6.2"
  }
 },
 "nbformat": 4,
 "nbformat_minor": 2
}
